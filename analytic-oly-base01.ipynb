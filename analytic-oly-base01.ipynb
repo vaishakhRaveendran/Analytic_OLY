{
 "cells": [
  {
   "cell_type": "code",
   "execution_count": 1,
   "id": "54d60840",
   "metadata": {
    "_cell_guid": "b1076dfc-b9ad-4769-8c92-a6c4dae69d19",
    "_uuid": "8f2839f25d086af736a60e9eeb907d3b93b6e0e5",
    "execution": {
     "iopub.execute_input": "2023-09-08T20:38:57.666153Z",
     "iopub.status.busy": "2023-09-08T20:38:57.665661Z",
     "iopub.status.idle": "2023-09-08T20:38:58.143741Z",
     "shell.execute_reply": "2023-09-08T20:38:58.142632Z"
    },
    "papermill": {
     "duration": 0.489216,
     "end_time": "2023-09-08T20:38:58.146762",
     "exception": false,
     "start_time": "2023-09-08T20:38:57.657546",
     "status": "completed"
    },
    "tags": []
   },
   "outputs": [
    {
     "name": "stdout",
     "output_type": "stream",
     "text": [
      "/kaggle/input/Analytic-olympiad/train.csv\n",
      "/kaggle/input/Analytic-olympiad/test.csv\n"
     ]
    }
   ],
   "source": [
    "# This Python 3 environment comes with many helpful analytics libraries installed\n",
    "# It is defined by the kaggle/python Docker image: https://github.com/kaggle/docker-python\n",
    "# For example, here's several helpful packages to load\n",
    "\n",
    "import numpy as np # linear algebra\n",
    "import pandas as pd # data processing, CSV file I/O (e.g. pd.read_csv)\n",
    "\n",
    "# Input data files are available in the read-only \"../input/\" directory\n",
    "# For example, running this (by clicking run or pressing Shift+Enter) will list all files under the input directory\n",
    "\n",
    "import os\n",
    "for dirname, _, filenames in os.walk('/kaggle/input'):\n",
    "    for filename in filenames:\n",
    "        print(os.path.join(dirname, filename))\n",
    "\n",
    "# You can write up to 20GB to the current directory (/kaggle/working/) that gets preserved as output when you create a version using \"Save & Run All\" \n",
    "# You can also write temporary files to /kaggle/temp/, but they won't be saved outside of the current session"
   ]
  },
  {
   "cell_type": "code",
   "execution_count": 2,
   "id": "cd9f7d6f",
   "metadata": {
    "execution": {
     "iopub.execute_input": "2023-09-08T20:38:58.159523Z",
     "iopub.status.busy": "2023-09-08T20:38:58.158874Z",
     "iopub.status.idle": "2023-09-08T20:39:07.867566Z",
     "shell.execute_reply": "2023-09-08T20:39:07.866306Z"
    },
    "papermill": {
     "duration": 9.718752,
     "end_time": "2023-09-08T20:39:07.871006",
     "exception": false,
     "start_time": "2023-09-08T20:38:58.152254",
     "status": "completed"
    },
    "tags": []
   },
   "outputs": [],
   "source": [
    "import pandas as pd\n",
    "pd.options.mode.chained_assignment = None \n",
    "import numpy as np\n",
    "import tensorflow as tf"
   ]
  },
  {
   "cell_type": "code",
   "execution_count": 3,
   "id": "a3d47137",
   "metadata": {
    "execution": {
     "iopub.execute_input": "2023-09-08T20:39:07.884168Z",
     "iopub.status.busy": "2023-09-08T20:39:07.883328Z",
     "iopub.status.idle": "2023-09-08T20:39:09.028455Z",
     "shell.execute_reply": "2023-09-08T20:39:09.027172Z"
    },
    "papermill": {
     "duration": 1.155814,
     "end_time": "2023-09-08T20:39:09.032168",
     "exception": false,
     "start_time": "2023-09-08T20:39:07.876354",
     "status": "completed"
    },
    "tags": []
   },
   "outputs": [],
   "source": [
    "from sklearn.base import TransformerMixin,BaseEstimator\n",
    "from sklearn.feature_selection import VarianceThreshold\n",
    "\n",
    "#Implementingthe Transformer class\n",
    "class drop_col(TransformerMixin):\n",
    "    def __init__(self,threshold=0.3):\n",
    "        self.threshold=threshold\n",
    "    def fit(self,X,y=None):\n",
    "        col_vars=X.var()\n",
    "        self.col_to_drop=col_vars[col_vars<self.threshold].index\n",
    "        return self\n",
    "    def transform(self,X):\n",
    "        assert self.col_to_drop is not None, 'Drop_col error, must be fitted before predict'\n",
    "        X.drop(self.col_to_drop, axis=1, inplace=True)\n",
    "        return X"
   ]
  },
  {
   "cell_type": "code",
   "execution_count": 4,
   "id": "686d1d40",
   "metadata": {
    "execution": {
     "iopub.execute_input": "2023-09-08T20:39:09.045193Z",
     "iopub.status.busy": "2023-09-08T20:39:09.044686Z",
     "iopub.status.idle": "2023-09-08T20:39:31.973685Z",
     "shell.execute_reply": "2023-09-08T20:39:31.972379Z"
    },
    "papermill": {
     "duration": 22.939202,
     "end_time": "2023-09-08T20:39:31.977006",
     "exception": false,
     "start_time": "2023-09-08T20:39:09.037804",
     "status": "completed"
    },
    "tags": []
   },
   "outputs": [],
   "source": [
    "#Reading the dataset\n",
    "FILEPATH=\"/kaggle/input/Analytic-olympiad\"\n",
    "df_train=pd.read_csv(os.path.join(FILEPATH,'train.csv'))\n",
    "df_test=pd.read_csv(os.path.join(FILEPATH,'train.csv'))\n",
    "\n",
    "#Defining the features\n",
    "cat_cols=df_train.select_dtypes(include=\"object\").columns.to_list()\n",
    "num_cols=df_train.select_dtypes(include=[\"int64\",\"float64\"]).columns.to_list()[:-2]\n",
    "target_cols=df_train.columns.to_list()[-2:]\n",
    "#df_train.isna().sum() #There are no null values"
   ]
  },
  {
   "cell_type": "code",
   "execution_count": 5,
   "id": "33f95334",
   "metadata": {
    "execution": {
     "iopub.execute_input": "2023-09-08T20:39:31.989707Z",
     "iopub.status.busy": "2023-09-08T20:39:31.988988Z",
     "iopub.status.idle": "2023-09-08T20:39:36.112710Z",
     "shell.execute_reply": "2023-09-08T20:39:36.111255Z"
    },
    "papermill": {
     "duration": 4.133755,
     "end_time": "2023-09-08T20:39:36.116036",
     "exception": false,
     "start_time": "2023-09-08T20:39:31.982281",
     "status": "completed"
    },
    "tags": []
   },
   "outputs": [],
   "source": [
    "#Removing columns with low variance\n",
    "remove_col=drop_col(1)\n",
    "df_train=pd.concat([remove_col.fit_transform(df_train[num_cols]),df_train[cat_cols+target_cols]])\n",
    "df_test=pd.concat([remove_col.transform(df_test[num_cols]),df_test[cat_cols+target_cols]])"
   ]
  },
  {
   "cell_type": "code",
   "execution_count": null,
   "id": "0e48f74b",
   "metadata": {
    "execution": {
     "iopub.execute_input": "2023-09-08T20:37:03.546746Z",
     "iopub.status.busy": "2023-09-08T20:37:03.546301Z",
     "iopub.status.idle": "2023-09-08T20:37:05.385709Z",
     "shell.execute_reply": "2023-09-08T20:37:05.384679Z",
     "shell.execute_reply.started": "2023-09-08T20:37:03.546711Z"
    },
    "papermill": {
     "duration": 0.004871,
     "end_time": "2023-09-08T20:39:36.126176",
     "exception": false,
     "start_time": "2023-09-08T20:39:36.121305",
     "status": "completed"
    },
    "tags": []
   },
   "outputs": [],
   "source": []
  }
 ],
 "kernelspec": {
  "display_name": "Python 3",
  "language": "python",
  "name": "python3"
 },
 "language_info": {
  "codemirror_mode": {
   "name": "ipython",
   "version": 3
  },
  "file_extension": ".py",
  "mimetype": "text/x-python",
  "name": "python",
  "nbconvert_exporter": "python",
  "pygments_lexer": "ipython3",
  "version": "3.6.4"
 },
 "metadata": {
  "kernelspec": {
   "display_name": "Python 3",
   "language": "python",
   "name": "python3"
  },
  "language_info": {
   "codemirror_mode": {
    "name": "ipython",
    "version": 3
   },
   "file_extension": ".py",
   "mimetype": "text/x-python",
   "name": "python",
   "nbconvert_exporter": "python",
   "pygments_lexer": "ipython3",
   "version": "3.10.12"
  },
  "papermill": {
   "default_parameters": {},
   "duration": 45.529967,
   "end_time": "2023-09-08T20:39:39.412655",
   "environment_variables": {},
   "exception": null,
   "input_path": "__notebook__.ipynb",
   "output_path": "__notebook__.ipynb",
   "parameters": {},
   "start_time": "2023-09-08T20:38:53.882688",
   "version": "2.4.0"
  }
 },
 "nbformat": 4,
 "nbformat_minor": 5
}
